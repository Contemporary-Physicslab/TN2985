{
 "cells": [
  {
   "cell_type": "markdown",
   "id": "fe2718dc-463b-4901-b7b2-3f03afd9392c",
   "metadata": {},
   "source": [
    "---\n",
    "downloads:\n",
    "  - files: exam.ipynb\n",
    "  - files: data.csv\n",
    "---\n",
    "# Assignment Data-analysis in Python\n",
    "\n",
    "This assignment has to be made individually. You can start at 13:30h, it has to submitted before 17:30h.\n",
    "\n",
    "You are allowed to use previous materials you made and used in Python.\n",
    "\n",
    "Important:\n",
    "\n",
    "    provide enough information so we can understand what you are doing.\n",
    "    you can create cells (as markdown) to create comments and explanations.\n",
    "    you can use # as well to comment.\n",
    "    always use significant figures and units (if given) for your final answer\n",
    "\n",
    "You are allowed to calculate things by hand as well, but then show or explain your final answer."
   ]
  },
  {
   "cell_type": "code",
   "execution_count": 1,
   "id": "6736cce9-6581-40de-9e8f-19b76f98bca6",
   "metadata": {},
   "outputs": [],
   "source": [
    "import matplotlib.pyplot as plt\n",
    "import numpy as np\n",
    "\n",
    "from scipy.optimize import curve_fit \n",
    "from scipy.stats import norm"
   ]
  },
  {
   "cell_type": "markdown",
   "id": "7a549452-7561-4cf8-bf3d-04ed3674d3e2",
   "metadata": {},
   "source": [
    "# Task 1\n",
    "\n",
    "In this task you will show that you understand the basics of Python. \n",
    "\n",
    "1) Make an array \"x_raw\" running from 0 to 100 (including both 0 and 100) with an interval where all elements are integers (so [0,1,2,3...100]). (1pt)\n",
    "\n",
    "2) Now use x_raw to make a new array \"x_even\" which consists of all even numbers in the array \"x_raw\". (1pt)\n",
    "\n",
    "3) Define a function $f(a,x)$ that returns $a \\cdot x^2$. Use it to make an array $y = f(2.0,x$_$even)$. (1pt)\n",
    "\n",
    "4) Now, replace $y=f(2.0,20)$ by 2500. Note, counting to the index corresponding to $f(2.0, 20)$ by hand is not allowed! (1pt)\n",
    "\n",
    "We now have a distorted dataset. \n",
    "\n",
    "5) Use curve fitting to find the best value of $a$ and the uncertainty in $a$. Present the two values as an experimental physicist would do. (3pt) \n",
    "\n",
    "6) Make a test array from 0 to 100 with an interval of 0.1 and use this test array to graph the function fit into the data. Show the function fit as a dotted red line. (3pt)\n"
   ]
  },
  {
   "cell_type": "code",
   "execution_count": null,
   "id": "9db7f5c5-d13d-4269-a659-f5a399365a3b",
   "metadata": {},
   "outputs": [],
   "source": [
    "### YOUR CODE\n",
    "\n"
   ]
  },
  {
   "cell_type": "code",
   "execution_count": null,
   "id": "5e0b35e6-4871-4f37-98b3-8ca51ad0aede",
   "metadata": {},
   "outputs": [],
   "source": []
  },
  {
   "cell_type": "markdown",
   "id": "93c0046e-07ee-455b-8782-23106fb85242",
   "metadata": {},
   "source": [
    "# Task 2\n",
    "\n",
    "A physical quantity $A$ has been measured in order to calculate a different physical quantity $Z$. The value of $A$ is 1.075 ± 0.003. \n",
    "\n",
    "Calculate the physical quantity $Z$ and its uncertainty using the calculus approach for:\n",
    "\n",
    "1) $Z = 2.5 \\cdot \\sin(2\\pi A)$  (3pt)\n",
    " \n",
    "and the functional approach for:\n",
    " \n",
    "2) $Z = \\sqrt{3}\\cdot A^{4}$  (3pt)\n",
    " \n",
    " *(Disregard the unit(s))*"
   ]
  },
  {
   "cell_type": "code",
   "execution_count": null,
   "id": "ae7b349e-d1cf-47d9-bcda-a605203b248f",
   "metadata": {},
   "outputs": [],
   "source": [
    "### YOUR CODE\n"
   ]
  },
  {
   "cell_type": "markdown",
   "id": "075fd1ef-07f0-46a5-acad-0d0ddb0c255a",
   "metadata": {},
   "source": [
    "# Task 3\n",
    "\n",
    "Eliza is taking repeated independent measurements using a digital multimeter. However, she notes that every time the same value is showing up. Does this mean that the quantity she is measuring has no uncertainty? Explain. (1pt)\n"
   ]
  },
  {
   "cell_type": "code",
   "execution_count": null,
   "id": "ac37c7e3-3a48-4ad0-830b-d98ec037772d",
   "metadata": {},
   "outputs": [],
   "source": [
    "### YOUR ANSWER\n",
    "\n"
   ]
  },
  {
   "cell_type": "markdown",
   "id": "6bb81df3-60c1-46d9-95d0-ca6a4dc6088c",
   "metadata": {},
   "source": [
    "# Task 4\n",
    "In your final project you received a dataset stored in 'data.csv'. You are asked to  (1) investigate the pattern in the data, (2) define a function that probably fits that pattern, (3) use curve fitting to present the values of the parameters and their uncertainties, (4) plot the fit on the data and study the residuals: investigate whether this these are random noise that can be described using a Gaussian distribution and if so, what the standard deviation is of that noise. \n",
    "\n",
    "First load the 'data.csv' file. Then carry out this data-analysis. (9pt)\n"
   ]
  },
  {
   "cell_type": "code",
   "execution_count": null,
   "id": "27375158-c386-42fc-89ed-9a4876b7a65c",
   "metadata": {},
   "outputs": [],
   "source": [
    "### YOUR CODE\n"
   ]
  },
  {
   "cell_type": "code",
   "execution_count": null,
   "id": "439a4183-14b5-4e66-9395-07a88f8b1b6b",
   "metadata": {},
   "outputs": [],
   "source": []
  }
 ],
 "metadata": {
  "kernelspec": {
   "display_name": "Python 3 (ipykernel)",
   "language": "python",
   "name": "python3"
  },
  "language_info": {
   "codemirror_mode": {
    "name": "ipython",
    "version": 3
   },
   "file_extension": ".py",
   "mimetype": "text/x-python",
   "name": "python",
   "nbconvert_exporter": "python",
   "pygments_lexer": "ipython3",
   "version": "3.9.16"
  }
 },
 "nbformat": 4,
 "nbformat_minor": 5
}
