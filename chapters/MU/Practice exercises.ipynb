{
 "cells": [
  {
   "cell_type": "markdown",
   "metadata": {},
   "source": [
    "# Practice Exercises\n",
    "Some exercises to practice for the exam. The difficulty of the exercises are representative for the exam.\n",
    "\n",
    "You don't have to make all assignments, however, you should feel comfortable with Python and get well acquainted with measurement & uncertainty."
   ]
  },
  {
   "cell_type": "code",
   "execution_count": null,
   "metadata": {},
   "outputs": [],
   "source": [
    "import matplotlib.pyplot as plt\n",
    "import numpy as np\n",
    "from scipy.special import erf \n",
    "from scipy.optimize import curve_fit "
   ]
  },
  {
   "cell_type": "markdown",
   "metadata": {},
   "source": [
    "# Mean and standard deviation\n",
    "You probably know the `np.mean` and the `np.std` commands. However you can also do them yourself using the definitions:\n",
    "$$ \\overline{x} = \\frac{1}{N} \\sum_{i=1}^N x_i $$\n",
    "    \n",
    "$$ \\sigma_x =  \\sqrt{\\frac{1}{N-1}   \\sum_{i=1}^N (x_i - \\mu_x)^2  }$$\n",
    "\n",
    "Use these on the following dataset and see if you get the same results as the `np.mean` and the `np.std` commands.\n",
    "\n",
    "### Exercise 1\n",
    "\n",
    "The dataset is a measurement from 1 single flat by 11 different persons.\n",
    "\n",
    "|Measurement Number|Total Height (m)|\n",
    "|---|---|\n",
    "|1|141.02|\n",
    "|2|148.15|\n",
    "|3|157.27|\n",
    "|4|115.81|\n",
    "|5|149.22|\n",
    "|6|207.52|\n",
    "|7|180.20|\n",
    "|8|161.92|\n",
    "|9|164.28|\n",
    "|10|206.80|\n",
    "|11|42.50|\n",
    "\n",
    "\n",
    "**Questions**\n",
    "\n",
    "**a** Calculate in two different ways the mean value, the standard deviation.\n",
    "\n",
    "\n",
    "**b** How would you as a physicist write down the size of the flat?\n",
    "\n",
    "*If you notice a difference between the `np.std` function and the manual function I would encourage you to look at the documentation of the `np.std` function [Here](https://numpy.org/doc/stable/reference/generated/numpy.std.html).*"
   ]
  },
  {
   "cell_type": "code",
   "execution_count": null,
   "metadata": {},
   "outputs": [],
   "source": [
    "L = np.array([141.02,148.15,157.27,115.81,149.22,207.52,180.2,161.92,164.28,206.8,42.5])\n",
    "\n"
   ]
  },
  {
   "cell_type": "markdown",
   "metadata": {},
   "source": [
    "### Exercise 2\n",
    "\n",
    "A shop owner wants to know how many people visit his shop. He installs a device that counts the number of people that enter the shop every minute. In total 1000 measurements were done.\n",
    "\n",
    "**Questions**\n",
    "\n",
    "**a** Import the data_1.dat file. \n",
    " \n",
    "**b** Determine the average value as well as the standard deviation\n",
    " \n",
    "**c** Plot the data in a histogram. What kind of distribution do you think the data is best described by, and why?"
   ]
  },
  {
   "cell_type": "code",
   "execution_count": null,
   "metadata": {},
   "outputs": [],
   "source": [
    "Data = np.genfromtxt(\"data_1.dat\")\n",
    "\n",
    "\n"
   ]
  },
  {
   "cell_type": "markdown",
   "metadata": {},
   "source": [
    "# The Error Function and Chauvenaut's theorem\n",
    "For using Chauvenaut's theorem you need to use the error function. The error function is defined as follows:\n",
    "$$ erf(x) = \\frac{2}{\\sqrt{\\pi}} \\int_0 ^x e^{-t^2} dt$$\n",
    "\n",
    "This is a so called non elementary function. It can be approximated numerically, luckily you don't have to do this yourself because `scipy` already has a function for this. The Erf is a function (more formally called the cdf function) which is more often used in statistics and is used in the Chauvenaut's theorem. \n",
    "\n",
    "$$ Erf(x,\\overline{x},\\sigma_x) = \\frac{1}{2} [1+erf(\\frac{x-\\overline{x}}{\\sqrt{2}\\sigma_x})] $$\n",
    "\n",
    "### Exercise 3\n",
    "**a** Use `from scipy.special import erf` and make a plot of the error function in the range [-3,3] to see how the function behaves. \n",
    "\n",
    "**b** Use this to plot the Erf function, with the $\\sigma_x$ and $\\overline{x}$ found in exercise 1(for this you have to change the domain of your plot). This function is the same as the one that can be found on this [site](https://www.danielsoper.com/statcalc/calculator.aspx?id=53).\n",
    "\n",
    "**c** Use the dataset from exercise 1 to see if the last value (with length 42.5 m) can be discarded. And if so, what kind of influence does this have on the mean and the std.\n",
    "\n",
    "**d** What are the pros and cons of removing a point from a dataset?"
   ]
  },
  {
   "cell_type": "code",
   "execution_count": null,
   "metadata": {},
   "outputs": [],
   "source": [
    "from scipy.special import erf\n",
    "\n",
    "#Erf function\n",
    "def Erf(x,mean_u,sig):                                 \n",
    "    return 0.5*(1+erf((x-mean_u)/(np.sqrt(2)*sig)))\n",
    "\n",
    "\n",
    "\n",
    "#plot for error function\n",
    "\n",
    "\n",
    "#plot for Erf function\n",
    "\n",
    "\n",
    "#check whether the outlier can be discarded\n"
   ]
  },
  {
   "cell_type": "markdown",
   "metadata": {},
   "source": [
    "### Exercise 4\n",
    "# Height vs. weigth\n",
    "Attached is a csv file which contains the length (first column) and the weight (second column) of a (male) person. \n",
    "\n",
    "**a** Convert the data to metric units as it is now in inches and in lbs. \n",
    "\n",
    "**b** Make a scatter plot and see if you if you can fit a linear relation. \n",
    "\n",
    "**c** Find the mean and std of both the height and weight. \n",
    "\n",
    "**d** Make a histogram for both and overlay a Gaussian to see if the data follows a normal distribution."
   ]
  },
  {
   "cell_type": "code",
   "execution_count": null,
   "metadata": {},
   "outputs": [],
   "source": [
    "from scipy.optimize import curve_fit\n",
    "from scipy.stats import norm\n",
    "\n",
    "#import data\n",
    "data = np.genfromtxt('weight-height.csv',delimiter=',',dtype=float,skip_header=1)\n",
    "height = data[]\n",
    "weight = data[]\n",
    "\n",
    "#convert to metric units\n",
    "\n",
    "\n",
    "#calculate mean and std\n",
    "\n",
    "\n",
    "#linear function to fit\n",
    "\n",
    "\n",
    "#curvefit\n",
    "\n",
    "\n",
    "#plot\n",
    "plt.figure(figsize=(12,4))\n",
    "\n",
    "\n",
    "plt.show()\n",
    "\n",
    "#Histogram plot #1\n",
    "\n",
    "\n",
    "#Histogram plot #2\n",
    "\n"
   ]
  },
  {
   "cell_type": "markdown",
   "metadata": {},
   "source": [
    "### Exercise 5\n",
    "\n",
    "In an experiment 10 measurements were taken of the voltage over and current through a Si-diode. The results are displayed in the following table together with their uncertainties:\n",
    "\n",
    "| I (μA) | $\\alpha_I$ (μA)| V (mV)| $\\alpha_V$ (mV)| \n",
    "| ---   | ---     | ---   | --- |\n",
    "|3034 |4      | 670   | 4   |        \n",
    "|1494 |2      | 636   | 4   |       \n",
    "|756.1 |0.8     |604    | 4   |    \n",
    "|384.9 |0.4     | 572   | 4   |      \n",
    "|199.5 |0.3     | 541   | 4   |    \n",
    "|100.6 |0.2     | 505   | 4   |     \n",
    "|39.93 |0.05    | 465   | 3   |     \n",
    "|20.11 |0.03    | 432   | 3   |     \n",
    "|10.23 |0.02    | 400   | 3   |     \n",
    "|5.00  |0.01    | 365   | 3   |  \n",
    "|2.556  |0.008    | 331   | 3   |    \n",
    "|1.269  |0.007    | 296   | 2   |    \n",
    "|0.601  |0.007    |257    | 2   |\n",
    "|0.295  |0.006    |221    | 2   |\n",
    "|0.137  |0.006    |181    | 2   |\n",
    "|0.067  |0.006    |145    | 2   |\n",
    "\n",
    "The diode is expected to behave according to the following relation: $I = a(e^{bV}-1)$, where $a$ and $b$ are unknown constants . \n",
    "\n",
    "**a** Use the curve_fit function to determine whether this is a valid model to describe the dataset.\n",
    "\n",
    "*Hint: use a logscale on the y-axis*"
   ]
  },
  {
   "cell_type": "code",
   "execution_count": null,
   "metadata": {},
   "outputs": [],
   "source": [
    "I = np.array([3034,1494,756.1,384.9,199.5,100.6,39.93,20.11,10.23,5.00,2.556,1.269,0.601,0.295,0.137,0.067])*1e-6\n",
    "a_I = np.array([4,2,0.8,0.4,0.3,0.2,0.05,0.03,0.02,0.01,0.008,0.007,0.007,0.006,0.006,0.006])*1e-6\n",
    "V = np.array([670,636,604,572,541,505,465,432,400,365,331,296,257,221,181,145])*1e-3\n",
    "a_V = np.array([4,4,4,4,4,4,3,3,3,3,3,2,2,2,2,2])*1e-3\n",
    "\n",
    "#Function to fit\n",
    "def current(V,a,b):\n",
    "    return a*(np.exp(b*V)-1)\n",
    "\n",
    "\n",
    "#Make fit\n",
    "\n"
   ]
  },
  {
   "cell_type": "markdown",
   "metadata": {},
   "source": [
    "### Exercise 6\n",
    "\n",
    "A student measures the position of a simple mass-spring system. Unfortunately, he accidently moves his measuring device during the experiment. He is not sure if the device was put back in the right position and wants to know if there is a systematic error in his data. The dataset consists of 400 position measurements (in cm) over the course of 5 seconds. The data is expected to follow a sine function with an amplitude of 4.5 and a period of 10$\\pi$. \n",
    "\n",
    "**a** Import the data_2.dat file.\n",
    " \n",
    "**b** Plot the raw data, calculate and plot the residuals and determine whether there is indeed a systematic error in the data.\n",
    " \n",
    "**c** If so, approximate the magnitude of the systematic error and the time at which the occurs.\n"
   ]
  },
  {
   "cell_type": "code",
   "execution_count": null,
   "metadata": {},
   "outputs": [],
   "source": [
    "\n",
    "t = np.linspace(0,5,400)\n",
    "\n",
    "#sine function to fit the data\n",
    "def sine(x):                        \n",
    "    return 4.5*np.sin(x*5*np.pi)\n",
    "\n",
    "#plot of data and sine function\n",
    "\n",
    "#calculate residuals\n",
    "\n",
    "#plot of Residuals\n"
   ]
  },
  {
   "cell_type": "markdown",
   "metadata": {},
   "source": [
    "### Exercise 7\n",
    "# Functional vs. Calculus Approach\n",
    "You have both seen the functional and the calculus method in calculating the propagation of an error. \n",
    "\n",
    "Apply both methods on the following functions:\n",
    "$$\n",
    "Z(x)=\\frac{x-1}{x+1}\n",
    "$$\n",
    "\n",
    "\n",
    "With $ x = 3.2 \\pm 0.2$\n",
    "$$\n",
    "Z(x)=e^{x^2}\n",
    "$$\n",
    "\n",
    "\n",
    "\n",
    "\n",
    "With $ x = 8.745 \\pm 0.005$"
   ]
  },
  {
   "cell_type": "code",
   "execution_count": null,
   "metadata": {},
   "outputs": [],
   "source": []
  },
  {
   "cell_type": "markdown",
   "metadata": {},
   "source": [
    "### Exercise 8\n",
    "\n",
    "The gravitational force between two bodies can be described with Newton's law of universal gravitation: $F = \\frac{Gm_1m_2}{r^2}$, where $G$ is the gravitational constant, $m_i$ the masses of the bodies and $r$ the distance between the bodies.\n",
    "\n",
    "Suppose that a meteorite of mass $(4.739\\pm0.154)\\cdot10^8$kg at a distance of $(2.983\\pm0.037)\\cdot10^6$m is moving towards the earth. Determine the attracting force between the meteorite. Use both the functional and the calculus approach to calculate the uncertainty in $F$ and compare the results. You can use the following values:\n",
    "\n",
    "Earth mass: $(5.9722\\pm0.0006)\\cdot10^{24}$kg\n",
    "\n",
    "Gravitational constant: $(6.67259\\pm0.00030)\\cdot10^{-11}$m$^3$ s$^{-2}$ kg$^{-1}$\n"
   ]
  },
  {
   "cell_type": "code",
   "execution_count": null,
   "metadata": {},
   "outputs": [],
   "source": [
    "#function for gravitational force\n",
    "def FG(G,m1,m2,r):\n",
    "    return G * m1 * m2 /(r*r)\n",
    "#values\n",
    "G = 6.6759e-11\n",
    "u_G = 0.00030e-11\n",
    "\n",
    "m1 = 4.739e8\n",
    "u_m1 = 0.154e8\n",
    "\n",
    "m2 = 5.9722e24\n",
    "u_m2 = 0.0006e24\n",
    "\n",
    "r = 2.983e6\n",
    "u_r = 0.037e6\n",
    "\n",
    "#value of gravitational force\n",
    "\n",
    "\n",
    "#calculus approach\n",
    "\n",
    "\n",
    "#Calculate difference between methods\n",
    "\n"
   ]
  },
  {
   "cell_type": "markdown",
   "metadata": {},
   "source": [
    "### Exercise 9\n",
    "\n",
    "The behaviour of many gases can be well approximated by the ideal gas law: $PV=nRT$, where $P$ is the pressure, $V$ the volume of the gas, $n$ the amount of substance in moles, $T$ the temperature of the gas. $R$ is the ideal gas constant, which is actually just the Boltzmann constant multiplied by the Avogrado constant, with a value of $8.314$ J⋅K$^{-1}$⋅mol$^{-1} $.\n",
    "\n",
    "A student performs an experiment with a closed containter of $3.23\\pm0.01$ litres filled with $0.172\\pm0.001$ mol Helium gas. The volume remains constant throughout the experiment and no particles can enter or leave the container. The student slowly heats the gas and measures the change in pressure. The results are shown in the following table. \n",
    "\n",
    "\n",
    "| Temperature (K) | Pressure (kPa)|\n",
    "| ---   | ---     |\n",
    "|293.2 |128.57      |\n",
    "|304.4 |134.44      |\n",
    "|313.8 |137.93   |\n",
    "|327.3 |145.33   |\n",
    "|335.0 |187.97   |\n",
    "|348.3 |155.16      |\n",
    "|359.1 |158.85      |\n",
    "|371.6 |164.08     |\n",
    "\n",
    "The uncertainty in $T$ is 0.2 K for all values.\n",
    "\n",
    "**a** Calculate the uncertainty in $P$ using the calculus approach \n",
    "\n",
    "**b** Fit the data to the model. What do you see? Is the data well described by the ideal gas law?\n"
   ]
  },
  {
   "cell_type": "code",
   "execution_count": null,
   "metadata": {},
   "outputs": [],
   "source": [
    "def Press(V,n,R,T):  #ideal gas law\n",
    "    return n*R*T/V\n",
    "\n",
    "#values\n",
    "R = 8.314\n",
    "\n",
    "n = 0.172\n",
    "u_n = 0.001\n",
    "\n",
    "V = 3.32e-3\n",
    "u_V = 0.01e-3\n",
    "\n",
    "#data\n",
    "T = np.array([293.2,304.4,313.8,327.3,335.0,348.3,359.1,371.6])\n",
    "u_T = np.ones(len(T))*0.2\n",
    "\n",
    "P = np.array([128.57,134.44,137.93,145.33,187.97,155.16,158.85,164.08])*1e3\n",
    "\n",
    "#model \n",
    "\n",
    "\n",
    "#plot\n"
   ]
  },
  {
   "cell_type": "markdown",
   "metadata": {},
   "source": [
    "**c** One data point seems to be an outlier. Use Chauvenet's criterium to determine whether the point can be discarded."
   ]
  },
  {
   "cell_type": "code",
   "execution_count": null,
   "metadata": {},
   "outputs": [],
   "source": []
  },
  {
   "cell_type": "markdown",
   "metadata": {},
   "source": [
    "### Exercise 10\n",
    "When measuring there is always a very real possibility of a systematic error. One of these systematic errors can be found in a mass-springsystem. Normally the period of a mass-spring system is given by: $T = 2\\pi \\sqrt{\\frac{m}{C}}$. Here $m$ is the mass and $C$ is the spring constant. However this formula assumes that you have a massless spring, this is not true unfortunately. This means that the mass of the spring is also vibrating, we should thus change the formula to take this into account. This gives the following equation: $T = 2\\pi \\sqrt{\\frac{m + \\Delta m}{C}}$, where $\\Delta m$ is the systematic error.\n",
    "\n",
    "With the measurements that we have we can find both the spring constant and its uncertainties. The array m is an array with the values for the measured $m$ and the array T is an array with all the measured data for the period. You can disregard the invalid use of significant figures.\n",
    "\n",
    "**a** Plot the data\n",
    "\n",
    "**b** Find the parameters $\\Delta m$ and $C$ with its corresponding uncertainties\n",
    "\n",
    "**c** Plot the fitted function over the data and look at the residuals"
   ]
  },
  {
   "cell_type": "code",
   "execution_count": null,
   "metadata": {},
   "outputs": [],
   "source": [
    "from scipy.optimize import curve_fit\n",
    "\n",
    "m = np.array([50,100,150,200,250,300])\n",
    "T = np.array([2.47,3.43,4.17,4.80,5.35,5.86])"
   ]
  },
  {
   "cell_type": "markdown",
   "metadata": {},
   "source": [
    "# Error in the Error\n",
    "There is always an error in the error. This number tells you whether you use 1 or 2 significant values for your uncertainty. \n",
    "$$\n",
    "\\text{errror in the error} = \\frac{1}{\\sqrt{2N - 2}}\n",
    "$$\n",
    "\n",
    "<img src='figure_err.JPG'></img>\n",
    "\n",
    "### Exercise 11\n",
    "See if you can reproduce the plot shown above, use a logarithmic scale on the x-axis and make the horizontal and vertical dashed lines (you can only do one point to show that you know how to do it).\n",
    "\n",
    "\n",
    "\n",
    "*Hint: use `plt.hlines` and `plt.vlines` to make it a bit easier (look at the documentation to see how the functions work).* "
   ]
  },
  {
   "cell_type": "code",
   "execution_count": null,
   "metadata": {},
   "outputs": [],
   "source": [
    "def err_err(N):\n",
    "    return 1/(np.sqrt(2*N - 2))\n",
    "\n"
   ]
  },
  {
   "cell_type": "code",
   "execution_count": null,
   "metadata": {},
   "outputs": [],
   "source": []
  },
  {
   "cell_type": "code",
   "execution_count": null,
   "metadata": {},
   "outputs": [],
   "source": []
  },
  {
   "cell_type": "code",
   "execution_count": null,
   "metadata": {},
   "outputs": [],
   "source": []
  }
 ],
 "metadata": {
  "kernelspec": {
   "display_name": "Python 3 (ipykernel)",
   "language": "python",
   "name": "python3"
  },
  "language_info": {
   "codemirror_mode": {
    "name": "ipython",
    "version": 3
   },
   "file_extension": ".py",
   "mimetype": "text/x-python",
   "name": "python",
   "nbconvert_exporter": "python",
   "pygments_lexer": "ipython3",
   "version": "3.9.12"
  },
  "latex_envs": {
   "LaTeX_envs_menu_present": true,
   "autoclose": false,
   "autocomplete": true,
   "bibliofile": "biblio.bib",
   "cite_by": "apalike",
   "current_citInitial": 1,
   "eqLabelWithNumbers": true,
   "eqNumInitial": 1,
   "hotkeys": {
    "equation": "Ctrl-E",
    "itemize": "Ctrl-I"
   },
   "labels_anchors": false,
   "latex_user_defs": false,
   "report_style_numbering": false,
   "user_envs_cfg": false
  }
 },
 "nbformat": 4,
 "nbformat_minor": 4
}
