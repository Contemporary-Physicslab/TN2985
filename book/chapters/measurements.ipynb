{
 "cells": [
  {
   "cell_type": "markdown",
   "metadata": {},
   "source": [
    "# The value of values\n",
    "\n",
    "What is, in science, the value of a value? In physics, this depends on how certain you are of this value. As quantities are determined using experiments, and these experiments are subject to error and uncertainties, the value can only be determined to some degree. We are never 100\\% sure of the exact value. Therefore, values are given with their uncertainty: $g$ = 9.81 $\\pm$ 0.01 m/s$^2$. So how do we determine to what extent a value is certain?\n",
    "\n"
   ]
  },
  {
   "cell_type": "markdown",
   "metadata": {},
   "source": [
    "## Errors and uncertainty\n",
    "Uncertainties in values can arise from the precision of the instruments used in the experiment, errors made by the person doing the experiment, vibrations, temperature effects, and fundamental errors related to the phenomenon being studied. Some of these uncertainties can be reduced, others just have to be accepted. Whatever their cause, these effects influence experiments and their outcomes of the experiments and therefore influence the uncertainty in the quantities we want to determine. \n",
    "\n",
    "```{figure} /figures/reading.eps\n",
    "---\n",
    "name: fig:reading\n",
    "width: 70%\n",
    "---\n",
    "It is difficult to read the exact value, the uncertainty is in the last decimal: 17.3 $\\pm$  0.3 V.\n",
    "```\n"
   ]
  },
  {
   "cell_type": "markdown",
   "metadata": {},
   "source": [
    "\n",
    "### Gaussian noise\n",
    "Random errors will usually conform to a Gaussian distribution. The probability of an error of some sort occurring can be calculated through:\n",
    "\n",
    "$$ P(x) = \\frac{1}{{\\sigma \\sqrt {2\\pi } }}e^{{{ - \\left( {x - \\mu } \\right)^2 } \\mathord{\\left/ {\\vphantom {{ - \\left( {x - \\mu } \\right)^2 } {2\\sigma ^2 }}} \\right. \\kern-\\nulldelimiterspace} {2\\sigma ^2 }}} $$ (eq:gaussian)\n",
    "\n",
    "In this function, $\\mu$ is the average value of the error, $\\sigma$ the standard deviation, a measure of the spread of the error, $x$ is the value of the error. In section \\ref{sec:RM} we assume that the errors we have to deal with are following a Gaussian distribution. Figure \\ref{fig:noise_a} shows what Gaussian noise looks like, following the probability density function shown in Figure \\ref{fig:noise_b}\n",
    "\n",
    "```{figure} /figures/noise.pdf\n",
    "---\n",
    "name: fig:noise_a\n",
    "width: 70%\n",
    "---\n",
    "A scatter plot of the noise. Although most data are in between -25 and 25, one can find data points with values$>$50.\n",
    "```\n",
    "\n",
    "```{figure} /figures/noisehist.eps\n",
    "---\n",
    "name: fig:noise_b\n",
    "width: 70%\n",
    "---\n",
    "A histogram of the noise. One can easily see that roughly 2/3 of the data is within $\\mu \\pm \\sigma$ and 90$\\%$ is within $2\\sigma$.\n",
    "```\n"
   ]
  },
  {
   "cell_type": "code",
   "execution_count": null,
   "metadata": {
    "tags": [
     "hide-input"
    ]
   },
   "outputs": [],
   "source": [
    "import matplotlib.pyplot as plt\n",
    "import numpy as np\n",
    "import math\n",
    "from scipy.optimize import curve_fit \n",
    "from scipy import special"
   ]
  },
  {
   "cell_type": "code",
   "execution_count": 17,
   "metadata": {
    "tags": [
     "hide-input"
    ]
   },
   "outputs": [
    {
     "data": {
      "image/png": "[encoded data removed]",
      "text/plain": [
       "<Figure size 432x288 with 1 Axes>"
      ]
     },
     "metadata": {
      "needs_background": "light"
     },
     "output_type": "display_data"
    },
    {
     "name": "stdout",
     "output_type": "stream",
     "text": [
      "(a) A scatter plot of the noise. Although most data\n",
      "are in between -25 and 25, one can find data points\n",
      "with values>50.\n"
     ]
    },
    {
     "data": {
      "image/png": "[encoded data removed]",
      "text/plain": [
       "<Figure size 432x288 with 1 Axes>"
      ]
     },
     "metadata": {
      "needs_background": "light"
     },
     "output_type": "display_data"
    },
    {
     "name": "stdout",
     "output_type": "stream",
     "text": [
      "(b) A histogram of the noise. One can easily see that\n",
      "roughly 2/3 of the data is within µ ± σ and 90% \n",
      "\n"
     ]
    }
   ],
   "source": [
    "mu = 0\n",
    "sigma = 25\n",
    "N = 10000 #number of data points\n",
    "\n",
    "y = np.random.normal(mu,sigma,N) #noise creation\n",
    "x = np.linspace(1,N,N)\n",
    "\n",
    "plt.figure()\n",
    "plt.plot(x[:1000],y[:1000],'k.')\n",
    "plt.show()\n",
    "print(\"\"\"(a) A scatter plot of the noise. Although most data\n",
    "are in between -25 and 25, one can find data points\n",
    "with values>50.\"\"\")\n",
    "\n",
    "plt.hist(y,bins = 50) #bins chosen relatively large, but at random\n",
    "plt.show()\n",
    "print(\"\"\"(b) A histogram of the noise. One can easily see that\n",
    "roughly 2/3 of the data is within µ ± σ and 90% \n",
    "\"\"\")"
   ]
  },
  {
   "cell_type": "markdown",
   "metadata": {},
   "source": [
    "\n",
    "### Systematic error\n",
    "If there is, e.g., a calibration error of the instrument, a systematic error occurs with each and every measurement. If your ruler starts at 0.2 cm but you didn't notice, this will cause a systematic error.\n",
    "\n",
    "```{figure} /figures/Meetfout.eps\n",
    "---\n",
    "name: fig:meetfout\n",
    "width: 70%\n",
    "---\n",
    "A not calibrated instrument will probably result in a systematic error\n",
    "```\n",
    "\n",
    "If you suspect a systematic error, you can look for it using e.g. Python. If the to be fitted function is $\\(F = \\frac{\\alpha}{r^4}\\)$ and you suspect a systematic error in the distance, $r$, you can try to fit the function $\\(F =\\frac{\\alpha}{(r+\\Delta r)^4}\\)$. You still have to validate whether the systematic error is within a sensible range and whether there is indeed a systematic error, see {numref}`figure {number} <fig:noise>`.\n",
    "\n",
    "\n",
    "Figuring out whether you have the problem of a systematic error can be done by analysing the residuals. If $M(x)$ are the values of your measurements at certain point $x$, and $F(x)$ is the value of the fitted function at the same point $x$, the residuals are defined by $R(x)=M(x)-F(x)$ .\n",
    "\n",
    "```{figure} /figures/quad_without.eps\n",
    "---\n",
    "name: \n",
    "width: 70%\n",
    "---\n",
    "A curve fit using least square method without compensation for a systematic error $\\(y=a\\cdot x^2\\)$.\n",
    "```\n",
    "\n",
    "```{figure} /figures/quad_with.eps\n",
    "---\n",
    "name: fig:noise\n",
    "width: 70%\n",
    "---\n",
    "A curve fit using least square method with compensation for a systematic error $\\(y=a\\cdot (x + \\Delta x)^2\\)$.\n",
    "```\n",
    "\n"
   ]
  },
  {
   "cell_type": "markdown",
   "metadata": {},
   "source": [
    "\n",
    "(sec:RM)=\n",
    "## Repeating measurements\n",
    "Repeating a measurement helps us determine the 'exact' value. The best estimate of the exact value is the mean:\n",
    "\n",
    "$$ \\overline{x}=\\frac{\\sum_{i=1}^{N} x_i}{N} $$ (eq:mean)\n",
    "\n",
    "in which $x_i$ is a measurement and $N$ is the number of repeated measurements.\n",
    "\n",
    "In the analysis of experimental data, an important parameter is the standard deviation, $\\sigma$. If the experiment is done again, the chance that the value is between $\\overline{x}\\pm\\sigma$ is 2/3. The standard deviation is calculated by\n",
    "\n",
    "$$ \\sigma = \\sqrt{\\frac{\\sum_{i=1}^N (x_i-\\overline{x})^2}{N-1}}$$ (eq:stdev)\n",
    "\n",
    "There is another way to determine the standard deviation more quickly, but this is somewhat less accurate (the rough-and-ready approach). The standard deviation is roughly $\\frac{2}{3}(x_{max}-\\overline{x})$.\n",
    "\n",
    "If the same experiment is repeated, the average value will differ slightly each time. This means that their is an uncertainty within the average. This parameter is called the standard deviation of the mean, $\\alpha$:\n",
    "\n",
    "$$ \\alpha = \\frac{\\sigma}{\\sqrt{N}} $$ (eq:uncertainty)\n",
    "\n",
    "This uncertainty tells you that if the entire experiment is repeated, there is a 2/3 change that the average value is within $\\overline{x} \\pm \\alpha$\n",
    "\n",
    "\n",
    "\n",
    "\n",
    "\\begin{figure}[h!]\n",
    "    \\begin{subfigure}{0.31\\textwidth}\n",
    "        \\includegraphics[width=\\linewidth]{figures/noise_average.pdf}\n",
    "        \\caption{The average value of $N$ noise samples. It can be clearly seen that the value converges to 0.} \\label{fig:1a}\n",
    "    \\end{subfigure}\n",
    "\\hspace*{\\fill} % separation between the subfigures\n",
    "    \\begin{subfigure}{0.31\\textwidth}\n",
    "        \\includegraphics[width=\\linewidth]{figures/noise_sigma.pdf}\n",
    "        \\caption{The standard deviation of $N$ noise samples. It can be clearly seen that the value converges to 25.} \\label{fig:1b}\n",
    "    \\end{subfigure}\n",
    "\\hspace*{\\fill} % separation between the subfigures\n",
    "    \\begin{subfigure}{0.31\\textwidth}\n",
    "        \\includegraphics[width=\\linewidth]{figures/noise_stderror.eps}\n",
    "        \\caption{The standard error of $N$ noise samples. It can be clearly seen that the uncertainty decreases.} \\label{fig:1c}\n",
    "    \\end{subfigure}\n",
    "\\caption{The average, standard deviation and standard error as function of $N$ noise samples. It can be seen that the average and standard deviation do not change much and only get better determined. The standard error decreases with $\\sqrt{N}$.} \\label{fig:1}\n",
    "\\end{figure}\n"
   ]
  },
  {
   "cell_type": "code",
   "execution_count": 31,
   "metadata": {
    "tags": [
     "hide-input"
    ]
   },
   "outputs": [
    {
     "data": {
      "image/png": "[encoded data removed]",
      "text/plain": [
       "<Figure size 432x288 with 1 Axes>"
      ]
     },
     "metadata": {
      "needs_background": "light"
     },
     "output_type": "display_data"
    },
    {
     "name": "stdout",
     "output_type": "stream",
     "text": [
      "(a) A curve fit using least square method without compensation for a systematic error y = a $\\cdot$ x^2\n"
     ]
    },
    {
     "data": {
      "image/png": "[encoded data removed]",
      "text/plain": [
       "<Figure size 432x288 with 1 Axes>"
      ]
     },
     "metadata": {
      "needs_background": "light"
     },
     "output_type": "display_data"
    },
    {
     "name": "stdout",
     "output_type": "stream",
     "text": [
      "(b) A curve fit using least square method with compensation for a systematic error y = a $\\cdot$ (x + \\Delta x)^2\n"
     ]
    }
   ],
   "source": [
    "#create data\n",
    "x = np.linspace(0,10,11)\n",
    "\n",
    "def quadratic(x):\n",
    "    return 4.3*(x+.6)**2 + np.random.normal(0,1)\n",
    "\n",
    "y= quadratic(x)\n",
    "\n",
    "#curvefit without systematic error\n",
    "def solvex1(x,a):\n",
    "    return a*x**2\n",
    "\n",
    "pval_1, pcov_1 = curve_fit(solvex1,x,y)\n",
    "y2 = solvex1(x,pval_1[0])\n",
    "\n",
    "      \n",
    "plt.plot(x,y,'r.')\n",
    "plt.plot(x,y2,'--')\n",
    "plt.show()\n",
    "print(\"\"\"(a) A curve fit using least square method without compensation for a systematic error y = a $\\cdot$ x^2\"\"\")\n",
    "\n",
    "#curvefit with system\n",
    "def solvex2(x,a,b):\n",
    "    return a*(x+b)**2\n",
    "\n",
    "pval_2, pcov_2 = curve_fit(solvex2,x,y)\n",
    "y3 = solvex2(x,pval_2[0],pval_2[1])\n",
    "\n",
    "plt.plot(x,y,'r.')\n",
    "plt.plot(x,y3,'--')\n",
    "plt.show()\n",
    "print(\"\"\"(b) A curve fit using least square method with compensation for a systematic error y = a $\\cdot$ (x + \\Delta x)^2\"\"\")\n"
   ]
  },
  {
   "cell_type": "code",
   "execution_count": 22,
   "metadata": {
    "tags": [
     "hide-input"
    ]
   },
   "outputs": [
    {
     "data": {
      "image/png": "[encoded data removed]",
      "text/plain": [
       "<Figure size 432x288 with 1 Axes>"
      ]
     },
     "metadata": {
      "needs_background": "light"
     },
     "output_type": "display_data"
    },
    {
     "name": "stdout",
     "output_type": "stream",
     "text": [
      "(a) The average value of N noise samples. It can be clearly seen that the value converges to 0.\n"
     ]
    },
    {
     "data": {
      "image/png": "[encoded data removed]",
      "text/plain": [
       "<Figure size 432x288 with 1 Axes>"
      ]
     },
     "metadata": {
      "needs_background": "light"
     },
     "output_type": "display_data"
    },
    {
     "name": "stdout",
     "output_type": "stream",
     "text": [
      "(b) The standard deviation of N noise\n",
      "samples. It can be clearly seen that\n",
      "the value converges to 25.\n"
     ]
    },
    {
     "data": {
      "image/png": "[encoded data removed]",
      "text/plain": [
       "<Figure size 432x288 with 1 Axes>"
      ]
     },
     "metadata": {
      "needs_background": "light"
     },
     "output_type": "display_data"
    },
    {
     "name": "stdout",
     "output_type": "stream",
     "text": [
      " (c) The standard error of N noise\n",
      "samples. It can be seen that the uncertainty decreases.\n"
     ]
    }
   ],
   "source": [
    "mu = 0\n",
    "sigma = 25\n",
    "N = 10000 #number of data points\n",
    "\n",
    "y = np.random.normal(mu,sigma,N) #noise creation\n",
    "x = np.linspace(1,N,N)\n",
    "\n",
    "#creates and fills list for average,std, and error against the number of data points used\n",
    "av_n = []\n",
    "std_n = []\n",
    "error_n = []\n",
    "for n in range(1,N+1):\n",
    "    av_n.append(np.mean(y[:n]))\n",
    "    std_n.append(np.std(y[:n]))\n",
    "    error_n.append(std_n[-1]/np.sqrt(n))\n",
    "    \n",
    "plt.figure()\n",
    "plt.plot(x, av_n, \"b.\")\n",
    "plt.show()\n",
    "print(\"\"\"(a) The average value of N noise samples. It can be clearly seen that the value converges to 0.\"\"\")\n",
    "\n",
    "plt.figure()\n",
    "plt.plot(x, std_n, \"b.\")\n",
    "plt.show()\n",
    "print(\"\"\"(b) The standard deviation of N noise\n",
    "samples. It can be clearly seen that\n",
    "the value converges to 25.\"\"\")\n",
    "\n",
    "plt.figure()\n",
    "plt.plot(x, error_n, \"b.\")\n",
    "plt.show()\n",
    "print(\"\"\" (c) The standard error of N noise\n",
    "samples. It can be seen that the uncertainty decreases.\"\"\")"
   ]
  },
  {
   "cell_type": "markdown",
   "metadata": {},
   "source": [
    "\n",
    "### Chauvenet's criterion\n",
    "What if a measurement is repeated ten times, and one value is very different from the rest? Can it just be discarded?\n",
    "To decide whether a value can be discarded, one can use the theory above and extend it. To start, you calculate the mean and the standard deviation. Subsequently you calculate the occurrence of the outlier $P_{out}$, using the error function: $P_{out}=2Erf(x_{out},\\overline{x},\\sigma)$. You can use [this site](https://www.danielsoper.com/statcalc/calculator.aspx?id=53) to use the error function \n",
    "\n",
    "If $N\\cdot P_{out}$ is smaller than 0.5, the measurement may be discarded. Disregarding a measurement should be mentioned in the report! You also have to calculate a new mean value and uncertainty as the data set has changed.\n"
   ]
  },
  {
   "cell_type": "markdown",
   "metadata": {},
   "source": [
    "\n",
    "#### Error Function(s)\n",
    "There are two types of error functions, the $erf(x)$ and the $Erf(x_{out},\\overline{x},\\sigma)$. Which are defined like this:\n",
    "$$\n",
    "    erf(x) = \\frac{2}{\\sqrt{\\pi}} \\int_0 ^x e^{-t^2} dt \n",
    "\n",
    "    Erf(x,\\overline{x},\\sigma_x) = \\frac{1}{2} \\qty[1+erf\\qty(\\frac{x-\\overline{x}}{\\sqrt{2}\\sigma_x})]\n",
    "$$\n",
    "\n",
    "The easiest way is to use the error function is to import it from the scipy package. A plot of both functions can be seen in {numref}`Figure {number} <fig:erfplots>`.\n",
    "\n",
    "```{figure} /figures/erfplots.eps\n",
    "---\n",
    "name: fig:erfplots\n",
    "width: 70%\n",
    "---\n",
    "2 plots, one with the $erf(x)$ (left) and one with the $Erf(x_{out},\\overline{x},\\sigma)$ (right), with $\\overline{x} = 10$ and $\\sigma = 5$.\n",
    "```\n",
    "\n",
    "What can be seen is that the  function $Erf(x_{out},\\overline{x},\\sigma)$ is basically a shifted version of the the $erf(x)$ function. As by dividing it by two and adding 0.5 shifts it up and makes it smaller. The $x_{out}-\\overline{x}$ shifts it so that the mean is at the center of the function and dividing it by $\\sigma$ 'stretches' the function so that it is in the right range. What one also can see if that when you have an outlier which is higher than the mean the $Erf$ will return a value higher than 0.5 which will always result in a value which cannot be discarded. When this happens you have to do $1-Erf(x_{out},\\overline{x},\\sigma)$, this you multiply by $2N$, or one can use:\n",
    "\n",
    "$$ 1 - erf\\qty(\\frac{|x_{out} - \\overline{x}|}{\\sigma}) $$ \n",
    "\n",
    "This you still have to multiply by $N$ (not by 2).\n"
   ]
  },
  {
   "cell_type": "code",
   "execution_count": 34,
   "metadata": {
    "tags": [
     "hide-input"
    ]
   },
   "outputs": [
    {
     "data": {
      "image/png": "[encoded data removed]",
      "text/plain": [
       "<Figure size 432x288 with 1 Axes>"
      ]
     },
     "metadata": {
      "needs_background": "light"
     },
     "output_type": "display_data"
    },
    {
     "data": {
      "image/png": "[encoded data removed]",
      "text/plain": [
       "<Figure size 432x288 with 1 Axes>"
      ]
     },
     "metadata": {
      "needs_background": "light"
     },
     "output_type": "display_data"
    }
   ],
   "source": [
    "#erf(x)\n",
    "x = np.linspace(-3, 3, 1000)\n",
    "plt.plot(x, special.erf(x))\n",
    "plt.xlabel('$x$')\n",
    "plt.ylabel('$erf(x)$')\n",
    "plt.xlim(-3,3)\n",
    "plt.show()\n",
    "\n",
    "#Erf(x_out, x_bar, sigma)\n",
    "# parameters\n",
    "sigma = 5\n",
    "x_bar = 15\n",
    "\n",
    "def Erf(x, x_bar, sigma):\n",
    "    return 0.5*(1+ special.erf((x-x_bar)/(np.sqrt(2)*sigma)))\n",
    "\n",
    "x = np.linspace(0, 30, 10000)\n",
    "plt.plot(x, Erf(x, x_bar, sigma))\n",
    "plt.xlabel('$x$')\n",
    "plt.ylabel(r'$Erf(x,\\bar{x},\\sigma)$')\n",
    "plt.xlim(0,30)\n",
    "plt.show()"
   ]
  },
  {
   "cell_type": "markdown",
   "metadata": {},
   "source": [
    "\n",
    "## Significant figures\n",
    "Significant figures are essential to physics. Most of you are probably already familiar with them. Significant figures are important because they indicate the uncertainty of a value. The number of figures after the comma of $\\overline{x}$ and $\\alpha$ are always the same!\n",
    "\n",
    "<div style=\"text-align: center;\">\n",
    "\n",
    "    20 $\\pm$ 1\n",
    "\n",
    "    0.25 $\\pm$ 0.02\n",
    "\n",
    "    10.25 $\\pm$ 0.20\n",
    "\n",
    "</div>\n",
    "\n",
    "A brief reminder on how to determine the number of significant figures: \n",
    "\n",
    "* All non-zero digits are significant: $2.998 \\cdot 10^8$ m s$^{-1}$ has four significant figures. \n",
    "* All zeroes between non-zero digits are significant: $6.02214179 \\cdot 10^{23}$ mol$^{-1}$ has nine significant figures. \n",
    "* Zeroes to the left of the first non-zero digits are not significant: 0.51 MeV has two significant figures. \n",
    "* Zeroes at the end of a number to the right of the decimal point are significant: $1.60 \\cdot 10^{-19}$C has three significant figures. \n",
    "* If a number ends in zeroes without a decimal point, the zeroes might be significant: 270 might have two or three significant figures.\n"
   ]
  },
  {
   "cell_type": "markdown",
   "metadata": {},
   "source": [
    "\n",
    "### Rules\n",
    "For most numbers, it is not hard to round of to the correct number of significant figures:\n",
    "\n",
    "<div style=\"text-align: center;\">\n",
    "\n",
    "    6.62 → 6.6\n",
    "\n",
    "    5.67 → 5.7\n",
    "\n",
    "</div>\n",
    "\n",
    "However, always rounding up 0.5 to 1 will result in a higher rounded value. So the rule is: even numbers before a 5 are cut, odd numbers before a 5 are rounded:\n",
    "\n",
    "<div style=\"text-align: center;\">\n",
    "    3.45 → 3.4 (since 4 is even)\n",
    "\n",
    "    3.55 → 3.6 (since 5 is odd)\n",
    "</div>\n",
    "\n",
    "With adding and/or subtracting the least number of figures after the comma is decisive. This also means that the total number of significant figures might change:\n",
    "\n",
    "<div style=\"text-align: center;\">\n",
    "\n",
    "    1.23 + 45.6 = 46.8\n",
    "\n",
    "    8.2 + 3.5 = 11.7 \n",
    "\n",
    "    100.5 - 2.5 = 98.0 \n",
    "\n",
    "</div>\n",
    "\n",
    "With multiplication or division the least number of significant figures is decisive: \n",
    "\n",
    "<div style=\"text-align: center;\">\n",
    "\n",
    "    1.2 $\\cdot$ 345.6 = 4.1 $\\cdot$ 10$^2$\n",
    "\n",
    "    5 / 2.00 = 2\n",
    "\n",
    "</div>\n",
    "\n",
    "This last example needs perhaps a further explanation: 5 / 2.00 = 2.5. However, one figure is allowed. 2 is an even number, so the last decimal is cut. \n",
    "\n"
   ]
  },
  {
   "cell_type": "markdown",
   "metadata": {},
   "source": [
    "\n",
    "## Error propagation\n",
    "If the uncertainty is known for one value, and that value is used in an equation, the result of that equation will also have some degree of uncertainty. Often, we have multiple variables each having their own degree of uncertainty. There are two ways to calculate this uncertainty: the functional approach, which involves propagating  $P \\pm \\alpha$ throughout the function, and the calculus approach, which is a linearization of the function.\n"
   ]
  },
  {
   "cell_type": "markdown",
   "metadata": {},
   "source": [
    "\n",
    "### Functional approach\n",
    "When a function $Z$ only depends on a single variable $A$, the uncertainty $\\alpha_{Z}$ can be calculated using:\n",
    "$$ \n",
    "    \\alpha_Z = \\frac{f(A+\\alpha_A) - f(A - \\alpha_A)}{2}\n",
    "    \n",
    "$$ (functional_single_variable)\n",
    "\n",
    "```{note}\n",
    "You just measured the radius of a circle and want to calculate its circumference using \\(O=2\\pi r\\). The measured radius is 2.0$\\pm$0.2 cm. The circumference will thus be: \\(O=2\\pi r=13\\) cm. Its uncertainty is given by: \\(\\alpha_O = \\frac{2\\pi2.2 - 2\\pi1.8}{2}=1\\) cm\n",
    "\n",
    "The circumference will thus be: $O=13 \\pm 1$ cm. \n",
    "```\n",
    "\n",
    "When a function $Z$ depends on multiple independent variables, like for instance \\(P = UI\\), the uncertainty needs to be calculated separately for each value using \\eqref{functional_double_variable_U}, \\eqref{functional_double_variable_I} and \\eqref{functional_double_variable}. This method can be used for any number of independent variables.\n",
    "\n",
    "$$ \\alpha_{P,U} = \\frac{P(U+\\alpha_U, I) - P(U-\\alpha_U,I)}{2} $$ (functional_double_variable_U)\n",
    "\n",
    "$$ \\alpha_{P,I} = \\frac{P(U, I+\\alpha_I) - P(U,I-\\alpha_I)}{2} $$ (functional_double_variable_I)\n",
    "\n",
    "$$ \\alpha_P = \\sqrt{ {\\alpha_{P,U}}^2+{\\alpha_{P,I}}^2} $$ (functional_double_variable)\n",
    "\n",
    "```{note}\n",
    "You measured the voltage over and the current through a light bulb. The voltage is 6.0 $\\pm$ 0.2 V, the current 0.25 $\\pm$ 0.01 A. What is the electrical power of the light bulb?\n",
    "\n",
    "$$ \n",
    "\\alpha_{P,U} = \\frac{P(U+\\alpha_U, I) - P(U-\\alpha_U,I)}{2}=\\frac{6.2 \\cdot .25 - 5.8 \\cdot .25}{2}=0.05 W\n",
    "$$ \n",
    "\n",
    "$$ \n",
    "\\alpha_{P,I} = \\frac{P(U, I+\\alpha_I) - P(U,I-\\alpha_I)}{2}=\\frac{6.0 \\cdot .26 - 6.0 \\cdot .24}{2}=0.06 W\n",
    "$$ \n",
    "\n",
    "$$ \n",
    "\\alpha_P = \\sqrt{ {\\alpha_{P,U}}^2+{\\alpha_{P,I}}^2} = \\sqrt{0.05^2+0.06^2} = 0.08 W\n",
    "$$ \n",
    "$P$ = 1.50 $\\pm$ 0.08 W\n",
    "```\n",
    "%\n"
   ]
  },
  {
   "cell_type": "markdown",
   "metadata": {},
   "source": [
    "### Calculus approach\n",
    "%\n",
    "The calculus approach uses a linearization to determine the effect a measured value $A$ has on the value $Z$. For a single variable function $Z(A)$ the uncertainty in $Z$ is given by:\n",
    "$$ \n",
    "    \\alpha_Z= \\frac{\\partial Z}{\\partial A}\\alpha_A\n",
    "$$ \n",
    "\n",
    "```{note}\n",
    "You just measured the radius of a circle and want to calculate its circumference using \\(O=2\\pi r\\). The measured radius is 2.0. The circumference will thus be: \\(O=2\\pi r=13\\) cm. Its uncertainty is given by: \\(\\frac{dO}{dr}\\alpha_r = 2\\pi\\alpha_r=1\\) cm\n",
    "\n",
    "The circumference will thus be: $O=13 \\pm 1$ cm. \n",
    "```\n",
    "\n",
    "The linearization will result in an error that becomes noticeable when the error of $A$ is relatively big and there is a lot of curve in the function in that area of $A$.\n",
    " \n",
    "\n",
    "The general form for the calculus approach of Z($A, B$,...) with uncertainties ($\\alpha_A$), ($\\alpha_B$),...  is given in \\eqref{calculus_general_form}.\n",
    "%\n",
    "$$ \n",
    "\\alpha_Z = \\sqrt{ ({\\frac{\\partial Z}{\\partial A}\\cdot \\alpha_A})^2+\n",
    "            (\\frac{\\partial Z}{\\partial B}\\cdot \\alpha_B)^2 + ...}\n",
    "    \\label{calculus_general_form}\n",
    "$$ \n",
    "%\n",
    "An example of the calculus approach for \\(P = UI\\) is given in \\eqref{calculus_double_variable} . \n",
    "%\n",
    "$$ \n",
    "\\alpha_P^2 =  (\\frac{\\partial P}{\\partial U}\\cdot \\alpha_U)^2 + (\\frac{\\partial P}{\\partial I}\\cdot \\alpha_I)^2\n",
    "    \\label{calculus_double_variable}\n",
    "$$ \n",
    "%\n",
    "Resulting in \\eqref{calculus_pUI}.\n",
    "%\n",
    "$$ \n",
    "\\alpha_p^2 =  (I\\cdot \\alpha_U)^2 + (U\\cdot \\alpha_I)^2\n",
    "    \\label{calculus_pUI}\n",
    "$$ \n",
    "Dividing both sides of the equation by $P(U,I)^2$ yields us a simple and direct equation for $\\alpha_P$:\n",
    "$$ \n",
    "    (\\frac{\\alpha_P}{P})^2 = (\\frac{\\alpha_U}{U})^2+(\\frac{\\alpha_I}{I})^2\n",
    "$$ \n",
    "More general, for a function \\(f(y,x)=cy^nx^m\\) the uncertainty in $f$ can be calculated by:\n",
    "$$ \n",
    "    (\\frac{\\alpha_f}{f})^2 = (\\frac{\\alpha_c}{c})^2+n^2(\\frac{\\alpha_y}{y})^2+m^2(\\frac{\\alpha_x}{x})^2\n",
    "$$ \n"
   ]
  },
  {
   "cell_type": "markdown",
   "metadata": {},
   "source": [
    "\n",
    "### Advantages of both methods\n",
    "\n",
    "The advantage of the functional approach is that it does not use the approximation of a linearization and is therefore more accurate. This is usually only noticeable when the uncertainty of a measured value is large and the function has a lot of bend. The advantage of the calculus approach is that it gives a clearer relation between the uncertainty of a variable and how it propagates into the uncertainty of the determined value\n",
    "\n"
   ]
  },
  {
   "cell_type": "markdown",
   "metadata": {},
   "source": [
    "\n",
    "## Error in function fit\n",
    "You have plotted your data ($y_i$) with their uncertainties and are now looking for a function $y(x_i)$ that best describes the data set (Note: earlier we talked about a measurement $M$ and function $F$, this is the same principle). You make an educated guess (or use a theoretical framework) to predict the function. An estimate of how well your function predicts the data is given by: $$ \n",
    "    \\chi^2 = \\sum (y_i-y(x_i))^2\n",
    "$$ \n",
    "If there is a perfect match between data and fit, the sum will be 0. Most curve fitting tools use this principle and are looking for the values for the variables for which this sum is minimal. A good fit goes at least through 2/3 of the error bars.\n",
    "\n",
    "\\begin{figure}[H]\n",
    "    \\centering\n",
    "    \\includegraphics[width=0.9\\textwidth]{figures/leastsquare.eps}\n",
    "    \\caption{At the left the data and function fit, at the right the sum of the residuals. There is an optimum where the sum of the residuals is mimimal.}\n",
    "    \\label{fig:lq}\n",
    "\\end{figure}\n",
    "\n",
    "We can learn a lot about our data by looking at the residuals: $y_i-y(x_i)$. There might still be a detectable pattern, hidden in the noise. Using Python is an excellent way to find out what your data is telling you...\n",
    "\n",
    "### Poisson distribution\n",
    "We covered so far the Gaussian distribution. However, there is also the Poisson distribution which is important when counting, e.g., radioactive decay. The Poisson distribution is a discrete probability distribution.\n",
    "\n",
    "\n",
    "The chance of $k$ counting events in a certain amount of time, with the expected value $\\lambda$ is given by:\n",
    "\n",
    "$$ \n",
    "    P(X = k) = \\frac{\\lambda^k e^{-\\lambda}}{k!}.\n",
    "$$ \n",
    "\n",
    "The standard deviation of the Poisson distribution is given by the square root of the expected value:  ($\\sigma = \\sqrt{\\lambda}$).\n",
    "\n",
    "```{note} Example\n",
    "\n",
    "In a restaurant there are on average 20 people per day. How does the probability distribution of the number of people look like?\n",
    "\n",
    "The probability of the number of visitors is given in figure \\ref{fig:MO:restaurant}. The chance is given by: \n",
    "\n",
    "$$ P(X = k) = \\frac{20^k e^{-20}}{k!} $$ \n",
    "\n",
    "\n",
    "\\begin{figure}[H]\n",
    "    \\centering\n",
    "    \\includegraphics[width=0.6\\textwidth]{figures/poisson_counts_restaurant.eps}\n",
    "    \\caption{The probability distribution of the number of visitors in the restaurant.}\n",
    "    \\label{fig:MO:restaurant}\n",
    "\\end{figure}\n",
    "\n",
    "```\n",
    "\n",
    "The shape of the function resembles the Gaussian distribution. This is not really strange as for large numbers of $\\lambda$ the Poisson distribution indeed becomes similar to the Gaussian distribution. However, for small numbers of $\\lambda$, the Poisson distribution is not symmetrical.\n"
   ]
  },
  {
   "cell_type": "code",
   "execution_count": 41,
   "metadata": {
    "tags": [
     "hide-input"
    ]
   },
   "outputs": [
    {
     "data": {
      "image/png": "[encoded data removed]",
      "text/plain": [
       "<Figure size 432x288 with 1 Axes>"
      ]
     },
     "metadata": {
      "needs_background": "light"
     },
     "output_type": "display_data"
    }
   ],
   "source": [
    "#poison plot\n",
    "lamb = 20 #lambda\n",
    "\n",
    "k = np.arange(0,2*lamb+1,1)\n",
    "\n",
    "def Poisson_prob(k, lamb):\n",
    "    return  np.exp(-lamb)*np.power(lamb, k, dtype = \"float\")/special.factorial(k)\n",
    "\n",
    "plt.figure()\n",
    "plt.plot(k, Poisson_prob(k, lamb), \"b.\")\n",
    "plt.xlim(0,2*lamb)\n",
    "plt.show()"
   ]
  },
  {
   "cell_type": "markdown",
   "metadata": {},
   "source": [
    "\n",
    "## Practice\n",
    "These questions will help you digest the information described above. The answers can be found at the end of this manual. Do not forget to look at the python assignments!\n",
    "\n",
    "```{exercise}\n",
    ":label: ex-1\n",
    ":class: dropdown\n",
    "Determine the mean, standard deviation and standard error of the following data sets:\n",
    "\n",
    "* 0.10; 0.15; 0.18; 0.13 \n",
    "* 25; 26; 30; 27; 19\n",
    "* 3.05; 2.75; 3.28; 2.88\n",
    "```\n",
    "\n",
    "```{exercise}\n",
    ":label: ex-2\n",
    ":class: dropdown\n",
    "Use Chauvenet's criterium to find out whether 19 in the previous task can be considered a real outlier.```\n",
    "\n",
    "```{exercise}\n",
    ":label: ex-3\n",
    ":class: dropdown\n",
    "Eric weighed a small cubic box. Its mass was 56 $\\pm$ 2 grams. The box has sides of 3.0 $\\pm$ 0.1 cm.\n",
    "\n",
    "* Determine the gravitational force working on this box.\n",
    "* Determine the volume of this box.\n",
    "* Determine the density of this box.\n",
    "* Evaluate whether the density is determined precisely enough to determine the material of the box.\n",
    "```\n",
    "\n",
    "```{exercise}\n",
    ":label: ex-4\n",
    ":class: dropdown\n",
    "During an experiment the electrical power of a light bulb is determined by measuring the voltage over and current through the light bulb. The measurements are displayed in the table below:\n",
    "\\begin{table}[h!]\\label{tb:ex4}\n",
    "    \\centering\n",
    "    \\begin{tabular}{c|c|c|c}\n",
    "        $U$(V) & $\\alpha_U$(V) & $I$(mA) & $\\alpha_I$(mA)\n",
    "\\hline\n",
    "        6.0 & 0.2 & 0.25 & 0.01\n",
    "    \\end{tabular}\n",
    "    %\\caption{Measurements on a light bulb}\n",
    "\\end{table}\n",
    "\n",
    "* Determine the electrical power of the light bulb.\n",
    "* Determine the resistance of the light bulb.\n",
    "* If you could determine either voltage or current more precise, which would you choose and why?\n",
    "\n",
    "```\n",
    "\n",
    "```{exercise}\n",
    ":label: ex-5\n",
    ":class: dropdown\n",
    "In the table below are the values given for constants $A, B$ and $C$. Determine in each of the following exercises the value and uncertainty of $Z$, use both the calculus and the functional approach. Describe in each exercise which uncertainty has the biggest influence on $\\alpha_Z$.\n",
    "\n",
    "\\begin{table}[!ht]\n",
    "\\centering\n",
    "\\begin{tabular}{l|l|l|l|l|l}\n",
    "\\multicolumn{1}{r|}{A} & $\\alpha_A$ & B   & $\\alpha_B$ & C    & $\\alpha_C$ \n",
    " \\hline\n",
    "5                      & 0.1      & 500 & 2        & 1 & 0.1    \n",
    "\\end{tabular}\n",
    "\\end{table}\n",
    "\n",
    "\n",
    "* $Z = \\frac{A}{BC^2}$\n",
    "* $Z = \\frac{A}{BC^4}$\n",
    "* $Z = C\\sqrt{AB}$\n",
    "\n",
    "```\n",
    "\n",
    "```{exercise}\n",
    ":label: ex-6\n",
    ":class: dropdown\n",
    "In the table below are values given for $a$ and $x$.\n",
    "\n",
    "\\begin{table}[H]\n",
    "    \\centering\n",
    "    \\begin{tabular}{l|l|l|l|}\n",
    "        \\multicolumn{1}{l|}{a} & $\\alpha_a$        & x               & $\\alpha_x$        \n",
    " \\hline\n",
    "        $5\\cdot10^{-8}$        & $1\\cdot10^{-9}$ & $5\\cdot10^{-3}$ & $1\\cdot10^{-3}$\n",
    "    \\end{tabular}\n",
    "\\end{table}\n",
    "\n",
    "\n",
    "* Calculate the value and uncertainty of $F = a \\cdot x^{-4}$.\n",
    "* Do the same as in the previous exercise, but now calculate $\\alpha_F$ for $\\alpha_a  = 1 \\cdot 10^{-9}$ and $\\alpha_x  = 1 \\cdot 10^{-4}$. What do you notice?\n",
    "* Now let $\\alpha_x$ be $1\\cdot10^{-3}$ and take $\\alpha_x = 1\\cdot 10^{-3}$ and $\\alpha_a = 1\\cdot 10^{-10}$, what do you notice? \n",
    "\n",
    "```\n",
    "\n"
   ]
  },
  {
   "cell_type": "markdown",
   "metadata": {},
   "source": [
    "\n",
    "## Assignment\n",
    "The final assignment for Measurement and uncertainty consists of a Python Jupyter Notebook with questions. You are allowed to bring code, this manual, notes. If it concerns a morning session the assignment is available from 8:45. Handing in your work, using Brightspace, can be done until 11:30. If it concerns a afternoon session, the assignment is available from 13:45. Handing in your work, using Brightspace, can be done until 16:00. This information will be provided before the test as well.\n",
    "\n"
   ]
  },
  {
   "cell_type": "code",
   "execution_count": null,
   "metadata": {},
   "outputs": [],
   "source": []
  },
  {
   "cell_type": "code",
   "execution_count": null,
   "metadata": {},
   "outputs": [],
   "source": []
  },
  {
   "cell_type": "code",
   "execution_count": null,
   "metadata": {},
   "outputs": [],
   "source": []
  },
  {
   "cell_type": "code",
   "execution_count": null,
   "metadata": {},
   "outputs": [],
   "source": []
  },
  {
   "cell_type": "code",
   "execution_count": null,
   "metadata": {},
   "outputs": [],
   "source": []
  }
 ],
 "metadata": {
  "celltoolbar": "Tags",
  "kernelspec": {
   "display_name": "Python 3",
   "language": "python",
   "name": "python3"
  },
  "language_info": {
   "codemirror_mode": {
    "name": "ipython",
    "version": 3
   },
   "file_extension": ".py",
   "mimetype": "text/x-python",
   "name": "python",
   "nbconvert_exporter": "python",
   "pygments_lexer": "ipython3",
   "version": "3.8.5"
  }
 },
 "nbformat": 4,
 "nbformat_minor": 5
}
